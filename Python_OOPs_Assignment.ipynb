{
  "nbformat": 4,
  "nbformat_minor": 0,
  "metadata": {
    "colab": {
      "provenance": []
    },
    "kernelspec": {
      "name": "python3",
      "display_name": "Python 3"
    },
    "language_info": {
      "name": "python"
    }
  },
  "cells": [
    {
      "cell_type": "markdown",
      "source": [
        "#Python OOPs Questions"
      ],
      "metadata": {
        "id": "Ue0tKvzHeWNw"
      }
    },
    {
      "cell_type": "markdown",
      "source": [
        "####Q1. What is Object-Oriented Programming (OOP)?\n",
        "- It organizes code into reusable blueprints (classes) that model real-world entities, allowing for modularity, reusability, and easier maintenance.\n",
        "\n",
        "- Key Principles:Inheritance, Abstraction, Polymorphism ,Encapsulation"
      ],
      "metadata": {
        "id": "QEzkMjhkeepP"
      }
    },
    {
      "cell_type": "markdown",
      "source": [
        "####Q2. What is a class in OOP?\n",
        "- A class is a blueprint or template for creating objects. It defines attributes and methods for the objects created from the class."
      ],
      "metadata": {
        "id": "NzYcP3S8V9ho"
      }
    },
    {
      "cell_type": "code",
      "source": [
        "#for example:\n",
        "#this is the buleprint or template for creating objects\n",
        "class Car: #class\n",
        "  def __init__(self, brand, model):\n",
        "    self.brand = brand\n",
        "    self.model = model\n",
        "  def drive(self):\n",
        "      print(f\"The {self.brand} {self.model} is being driven.\")"
      ],
      "metadata": {
        "id": "CmeBlAeFW2lO"
      },
      "execution_count": null,
      "outputs": []
    },
    {
      "cell_type": "markdown",
      "source": [
        "####Q3. What is an object in OOP?\n",
        "- Object is the instance of the class which has all the attributes and properties from the class that they have been created."
      ],
      "metadata": {
        "id": "bkBKkSiPWg8f"
      }
    },
    {
      "cell_type": "code",
      "source": [
        "car1 = Car(\"Tata\", \"Punch\")\n",
        "car1.drive()"
      ],
      "metadata": {
        "colab": {
          "base_uri": "https://localhost:8080/"
        },
        "id": "6rBrRi4fX-O3",
        "outputId": "c8985423-03f9-4da7-f5e3-e8b678dd1b8b"
      },
      "execution_count": null,
      "outputs": [
        {
          "output_type": "stream",
          "name": "stdout",
          "text": [
            "The Tata Punch is being driven.\n"
          ]
        }
      ]
    },
    {
      "cell_type": "markdown",
      "source": [
        "####Q4. What is the difference between abstraction and encapsulation?\n",
        "- Abstraction: Hides complexity by showing only essential details to the user. eg: Hiding implementation details\n",
        "- Encapsulation: Restricts direct access to an object’s data and methods to protect its integrity. eg: protected variables, private variables."
      ],
      "metadata": {
        "id": "hRbHKwKCanhm"
      }
    },
    {
      "cell_type": "markdown",
      "source": [
        "####Q5. What are dunder methods in Python?\n",
        "- Dunder methods aka double underscore methods are special methods in Python used to define custom behavior for built-in operations (e.g., __init__, __str__, __add__)."
      ],
      "metadata": {
        "id": "mQEu6_Etxujm"
      }
    },
    {
      "cell_type": "code",
      "execution_count": null,
      "metadata": {
        "id": "FbOHWTB_ePYZ",
        "colab": {
          "base_uri": "https://localhost:8080/"
        },
        "outputId": "26db7ca3-093a-457c-d507-a6c702a551dc"
      },
      "outputs": [
        {
          "output_type": "stream",
          "name": "stdout",
          "text": [
            "15\n"
          ]
        }
      ],
      "source": [
        "class Number:\n",
        "    def __init__(self, value):\n",
        "        self.value = value\n",
        "\n",
        "    def __add__(self, other):\n",
        "        return self.value + other.value\n",
        "\n",
        "num1 = Number(5)\n",
        "num2 = Number(10)\n",
        "print(num1 + num2)\n"
      ]
    },
    {
      "cell_type": "markdown",
      "source": [
        "####Q6. Explain the concept of inheritance in OOP.\n",
        "- Inheritanse allows a child class to aquire properties and beheviours from its parent class. That enabling code reuse and extensibility.\n"
      ],
      "metadata": {
        "id": "RxUX2W2NywjI"
      }
    },
    {
      "cell_type": "code",
      "source": [
        "class Animals:\n",
        "  def animal_speak(self):\n",
        "    print(\"Animal is speaking\")\n",
        "class Cat(Animals):\n",
        "  def meow(self):\n",
        "    print(\"Cat is meowing\")\n",
        "\n",
        "cat = Cat()\n",
        "cat.animal_speak() #cat can access animal speak"
      ],
      "metadata": {
        "colab": {
          "base_uri": "https://localhost:8080/"
        },
        "id": "XooOj6SVWgSX",
        "outputId": "f76ba82a-2111-4488-dc04-a6b6e0a7ed1e"
      },
      "execution_count": null,
      "outputs": [
        {
          "output_type": "stream",
          "name": "stdout",
          "text": [
            "Animal is speaking\n"
          ]
        }
      ]
    },
    {
      "cell_type": "markdown",
      "source": [
        "####Q7. What is polymorphism in OOP?\n",
        "- Polymorphism means \"many forms.\" It allows the same method to have different implementations depending on the object calling it.\n",
        "\n"
      ],
      "metadata": {
        "id": "ut51eDVY1Ei1"
      }
    },
    {
      "cell_type": "markdown",
      "source": [
        "####Q8. How is encapsulation achieved in Python?\n",
        "Encapsulation is achieved using:\n",
        "\n",
        "- Public attributes/methods: Accessible from anywhere.\n",
        "- Protected attributes/methods: Prefix with _ (convention).\n",
        "- Private attributes/methods: Prefix with __ to make them inaccessible directly from outside the class."
      ],
      "metadata": {
        "id": "soQiJHiX-0Mv"
      }
    },
    {
      "cell_type": "markdown",
      "source": [
        "####Q9. What is a constructor in Python?\n",
        "- A constructor is a special method (__init__) used to initialize an object when it is created.\n",
        "\n"
      ],
      "metadata": {
        "id": "xlaJ1EwvNEhy"
      }
    },
    {
      "cell_type": "code",
      "source": [
        "class Person:\n",
        "    def __init__(self, name, age):\n",
        "        self.name = name\n",
        "        self.age = age\n",
        "\n",
        "person = Person(\"Nitin\", 24)\n",
        "print(person.name, person.age)\n"
      ],
      "metadata": {
        "colab": {
          "base_uri": "https://localhost:8080/"
        },
        "id": "66_L33gWNOaJ",
        "outputId": "cfc5cfc1-aec1-48e9-8d8b-5e4a0d64a2f1"
      },
      "execution_count": null,
      "outputs": [
        {
          "output_type": "stream",
          "name": "stdout",
          "text": [
            "Nitin 24\n"
          ]
        }
      ]
    },
    {
      "cell_type": "markdown",
      "source": [
        "####Q10. What are class and static methods in Python?\n",
        "- Class Methods: Belong to the class and operate on the class itself. Use @classmethod and cls as the first parameter.\n",
        "- Static Methods: Do not operate on the instance or class; they are utility methods. Use @staticmethod."
      ],
      "metadata": {
        "id": "xaJOg1IxNNtB"
      }
    },
    {
      "cell_type": "code",
      "source": [
        "class Math:\n",
        "    @classmethod\n",
        "    def add(cls, a, b):\n",
        "        return a + b\n",
        "\n",
        "    @staticmethod\n",
        "    def multiply(a, b):\n",
        "        return a * b\n",
        "\n",
        "print(Math.add(5, 10))      # Outputs: 15\n",
        "print(Math.multiply(5, 10))  # Outputs: 50\n"
      ],
      "metadata": {
        "colab": {
          "base_uri": "https://localhost:8080/"
        },
        "id": "kwaOwSVDgoJD",
        "outputId": "d3faec4e-3f27-417c-aead-d2f512123fa7"
      },
      "execution_count": null,
      "outputs": [
        {
          "output_type": "stream",
          "name": "stdout",
          "text": [
            "15\n",
            "50\n"
          ]
        }
      ]
    },
    {
      "cell_type": "markdown",
      "source": [
        "####Q11. What is method overloading in Python?\n",
        "- Method overloading allows a class to define multiple methods with the same name but different parameters. While Python doesn’t directly support method overloading like some other languages, similar functionality can be achieved using default arguments"
      ],
      "metadata": {
        "id": "Y3MLatQJpIlI"
      }
    },
    {
      "cell_type": "code",
      "source": [
        "class Cal:\n",
        "  def add(self, a, b=0):\n",
        "   return a+b\n",
        "math = Cal()\n",
        "print(math.add(5))\n",
        "print(math.add(5,10))"
      ],
      "metadata": {
        "colab": {
          "base_uri": "https://localhost:8080/"
        },
        "id": "O_CB9Hirplu4",
        "outputId": "bfcb24a5-56c5-43ca-f9d7-b0ef1263cacf"
      },
      "execution_count": null,
      "outputs": [
        {
          "output_type": "stream",
          "name": "stdout",
          "text": [
            "5\n",
            "15\n"
          ]
        }
      ]
    },
    {
      "cell_type": "markdown",
      "source": [
        "####Q12. What is method overriding in OOP?\n",
        "- Method overriding occurs when a subclass provides a specific implementation of a method already defined in its superclass. It allows a child class to change or extend the behavior of the parent class.\n"
      ],
      "metadata": {
        "id": "mKiwGldNtD93"
      }
    },
    {
      "cell_type": "code",
      "source": [
        "class Parent:\n",
        "    def show(self):\n",
        "        print(\"Parent class\")\n",
        "\n",
        "class Child(Parent):\n",
        "    def show(self):\n",
        "        print(\"Child class\")\n",
        "\n",
        "obj = Child()\n",
        "obj.show()\n"
      ],
      "metadata": {
        "colab": {
          "base_uri": "https://localhost:8080/"
        },
        "id": "U_xMljkMqLQ5",
        "outputId": "b0e3fab2-64d9-4d25-b913-a20ab8456110"
      },
      "execution_count": null,
      "outputs": [
        {
          "output_type": "stream",
          "name": "stdout",
          "text": [
            "Child class\n"
          ]
        }
      ]
    },
    {
      "cell_type": "markdown",
      "source": [
        "####Q13. What is a property decorator in Python?\n",
        "- A property decorator (@property) allows you to define a method in a class that can be accessed like an attribute. It is often used to add getters, setters, and deleters for attributes.\n",
        "\n"
      ],
      "metadata": {
        "id": "PEHSHcPZvGkO"
      }
    },
    {
      "cell_type": "code",
      "source": [
        "class Circle:\n",
        "    def __init__(self, radius):\n",
        "        self._radius = radius\n",
        "\n",
        "    @property\n",
        "    def radius(self):\n",
        "        return self._radius\n",
        "\n",
        "    @radius.setter\n",
        "    def radius(self, value):\n",
        "        if value < 0:\n",
        "            raise ValueError(\"Radius cannot be negative\")\n",
        "        self._radius = value\n",
        "\n",
        "circle = Circle(5)\n",
        "print(circle.radius)  # Getter\n",
        "circle.radius = 10    # Setter\n",
        "print(circle.radius)\n"
      ],
      "metadata": {
        "colab": {
          "base_uri": "https://localhost:8080/"
        },
        "id": "mcIb-9ijvBT3",
        "outputId": "6a49ec67-7e3c-40fc-efa7-bbea38e5e5fb"
      },
      "execution_count": null,
      "outputs": [
        {
          "output_type": "stream",
          "name": "stdout",
          "text": [
            "5\n",
            "10\n"
          ]
        }
      ]
    },
    {
      "cell_type": "markdown",
      "source": [
        "####Q14. Why is polymorphism important in OOP?\n",
        "- Polymorphism allows objects of different classes to be treated as objects of a common superclass. It promotes code reusability and flexibility by letting you write generic code.\n",
        "\n",
        "Importance:\n",
        "\n",
        "Simplifies code structure\n",
        "Encourages extensibility\n",
        "Supports dynamic method invocation"
      ],
      "metadata": {
        "id": "P6fwwRE4y0d9"
      }
    },
    {
      "cell_type": "code",
      "source": [
        "class Animal:\n",
        "    def speak(self):\n",
        "        pass\n",
        "\n",
        "class Dog(Animal):\n",
        "    def speak(self):\n",
        "        print(\"Bark\")\n",
        "\n",
        "class Cat(Animal):\n",
        "    def speak(self):\n",
        "        print(\"Meow\")\n",
        "\n",
        "animals = [Dog(), Cat()]\n",
        "for animal in animals:\n",
        "    animal.speak()\n"
      ],
      "metadata": {
        "colab": {
          "base_uri": "https://localhost:8080/"
        },
        "id": "-duXBdqtzOEF",
        "outputId": "96ec11ce-cc9c-43af-c12b-1ae60c880d7b"
      },
      "execution_count": null,
      "outputs": [
        {
          "output_type": "stream",
          "name": "stdout",
          "text": [
            "Bark\n",
            "Meow\n"
          ]
        }
      ]
    },
    {
      "cell_type": "markdown",
      "source": [
        "####Q15. What is an abstract class in Python?\n",
        "- An abstract class is a class that cannot be instantiated and is meant to be subclassed. It can contain one or more abstract methods that must be implemented by the subclass.\n"
      ],
      "metadata": {
        "id": "gt5byEjfzWZE"
      }
    },
    {
      "cell_type": "code",
      "source": [
        "from abc import ABC, abstractmethod\n",
        "\n",
        "class Shape(ABC):\n",
        "    @abstractmethod\n",
        "    def area(self):\n",
        "        pass\n",
        "\n",
        "class Circle(Shape):\n",
        "    def area(self):\n",
        "        return 3.14 * 5 * 5\n",
        "\n",
        "circle = Circle()\n",
        "print(circle.area())\n"
      ],
      "metadata": {
        "colab": {
          "base_uri": "https://localhost:8080/"
        },
        "id": "s7QRJgZPzR5F",
        "outputId": "dffc4631-bd02-4343-e7c2-0bfecc49e53f"
      },
      "execution_count": null,
      "outputs": [
        {
          "output_type": "stream",
          "name": "stdout",
          "text": [
            "78.5\n"
          ]
        }
      ]
    },
    {
      "cell_type": "markdown",
      "source": [
        "####Q16. What are the advantages of OOP?\n",
        "- Modularity: Code is divided into classes and objects.\n",
        "- Reusability: Classes and methods can be reused.\n",
        "- Scalability: OOP makes it easier to manage and extend.\n",
        "- Flexibility: Polymorphism allows dynamic behavior.\n",
        "- Abstraction: Hides complexity.\n",
        "- Security: Encapsulation restricts unauthorized access."
      ],
      "metadata": {
        "id": "Al5svirG0IcU"
      }
    },
    {
      "cell_type": "markdown",
      "source": [
        "####Q17. What is the difference between a class variable and an instance variable?\n",
        "- Class variable is shared across all instance, it can be defined inside the variable, ir can be defined as class_name.variable\n",
        "- Instance variable is unique to each instance, it can be defined inside the instance method and its syntex is self.variable"
      ],
      "metadata": {
        "id": "IWRvJgGAXIDu"
      }
    },
    {
      "cell_type": "code",
      "source": [
        "class Car:\n",
        "    wheels = 4  # Class variable\n",
        "\n",
        "    def __init__(self, color):\n",
        "        self.color = color  # Instance variable\n",
        "\n",
        "car1 = Car(\"Red\")\n",
        "car2 = Car(\"Blue\")\n",
        "print(Car.wheels)\n"
      ],
      "metadata": {
        "id": "-iB6tZcMz75d",
        "colab": {
          "base_uri": "https://localhost:8080/"
        },
        "outputId": "05ab60ce-2139-4d31-bc38-bb6ee6442078"
      },
      "execution_count": null,
      "outputs": [
        {
          "output_type": "stream",
          "name": "stdout",
          "text": [
            "4\n"
          ]
        }
      ]
    },
    {
      "cell_type": "markdown",
      "source": [
        "####Q18. What is multiple inheritance in Python?\n",
        "- Multiple inheritance allows a class to inherit from more than one class."
      ],
      "metadata": {
        "id": "tGjCffnrooag"
      }
    },
    {
      "cell_type": "code",
      "source": [
        "class A:\n",
        "    def method_A(self):\n",
        "        print(\"Method from A\")\n",
        "\n",
        "class B:\n",
        "    def method_B(self):\n",
        "        print(\"Method from B\")\n",
        "\n",
        "class C(A, B):  # Multiple inheritance\n",
        "    pass\n",
        "\n",
        "obj = C()\n",
        "obj.method_A()\n",
        "obj.method_B()\n"
      ],
      "metadata": {
        "colab": {
          "base_uri": "https://localhost:8080/"
        },
        "id": "EWkQLyEhkF5C",
        "outputId": "ef1a5507-fe6a-4b13-bf72-46bb35a036c5"
      },
      "execution_count": null,
      "outputs": [
        {
          "output_type": "stream",
          "name": "stdout",
          "text": [
            "Method from A\n",
            "Method from B\n"
          ]
        }
      ]
    },
    {
      "cell_type": "markdown",
      "source": [
        "####Q19. Explain the purpose of __str__ and __repr__ methods in Python.\n",
        "- __str__: Used to return a readable, user-friendly string representation of an object.\n",
        "- __repr__: Used to return a detailed, developer-friendly string representation of an object."
      ],
      "metadata": {
        "id": "J2mpiQq7o5CI"
      }
    },
    {
      "cell_type": "code",
      "source": [
        "class Person:\n",
        "    def __init__(self, name, age):\n",
        "        self.name = name\n",
        "        self.age = age\n",
        "\n",
        "    def __str__(self):\n",
        "        return f\"Person(name={self.name})\"\n",
        "\n",
        "    def __repr__(self):\n",
        "        return f\"Person(name={self.name}, age={self.age})\"\n",
        "\n",
        "person = Person(\"Nitin\", 24)\n",
        "print(person)  # __str__ output\n",
        "print(repr(person))  # __repr__ output\n"
      ],
      "metadata": {
        "colab": {
          "base_uri": "https://localhost:8080/"
        },
        "id": "g-Ee5HHUo0bg",
        "outputId": "5519c397-8edc-48fb-d719-b68afd613a3b"
      },
      "execution_count": null,
      "outputs": [
        {
          "output_type": "stream",
          "name": "stdout",
          "text": [
            "Person(name=Nitin)\n",
            "Person(name=Nitin, age=24)\n"
          ]
        }
      ]
    },
    {
      "cell_type": "markdown",
      "source": [
        "####Q20. What is the significance of the super() function in Python?\n",
        "- The super() function allows you to call methods from a parent class, enabling code reuse and avoiding redundancy.\n"
      ],
      "metadata": {
        "id": "Eqat39HE0fWs"
      }
    },
    {
      "cell_type": "code",
      "source": [
        "class Parent:\n",
        "    def greet(self):\n",
        "        print(\"Hello from Parent\")\n",
        "\n",
        "class Child(Parent):\n",
        "    def greet(self):\n",
        "        super().greet()  # Calls Parent's greet\n",
        "        print(\"Hello from Child\")\n",
        "\n",
        "child = Child()\n",
        "child.greet()\n"
      ],
      "metadata": {
        "colab": {
          "base_uri": "https://localhost:8080/"
        },
        "id": "-Rzq3S-a0OfD",
        "outputId": "48a7c87b-c55f-488a-b1a4-0db682c8f7a8"
      },
      "execution_count": null,
      "outputs": [
        {
          "output_type": "stream",
          "name": "stdout",
          "text": [
            "Hello from Parent\n",
            "Hello from Child\n"
          ]
        }
      ]
    },
    {
      "cell_type": "markdown",
      "source": [
        "####Q21. What is the significance of the __del__ method in Python?\n",
        "- The __del__ method is called when an object is about to be destroyed. It is used to free resources or perform cleanup tasks."
      ],
      "metadata": {
        "id": "PyghlriG4R6y"
      }
    },
    {
      "cell_type": "code",
      "source": [
        "class FileHandler:\n",
        "    def __del__(self):\n",
        "        print(\"FileHandler object is deleted\")\n",
        "\n",
        "obj = FileHandler()\n",
        "del obj  # Outputs: FileHandler object is deleted\n"
      ],
      "metadata": {
        "colab": {
          "base_uri": "https://localhost:8080/"
        },
        "id": "JegdvVqf1H78",
        "outputId": "e1ed77b5-b8c9-461b-9672-5da366c717d5"
      },
      "execution_count": null,
      "outputs": [
        {
          "output_type": "stream",
          "name": "stdout",
          "text": [
            "FileHandler object is deleted\n"
          ]
        }
      ]
    },
    {
      "cell_type": "markdown",
      "source": [
        "####Q22. What is the difference between @staticmethod and @classmethod in Python?\n",
        "- @Statticmethod: It does not has any default parameters, it can not access class/instance and its use case is utility methode.\n",
        "- @Classmethod: It has cls as a default parameters, it can access class/variavles  "
      ],
      "metadata": {
        "id": "PXn-yeqp4rdj"
      }
    },
    {
      "cell_type": "markdown",
      "source": [
        "####Q23. How does polymorphism work in Python with inheritance?\n",
        "- Polymorphism allows child classes to override parent methods, enabling dynamic behavior.\n",
        "\n"
      ],
      "metadata": {
        "id": "KnglKz9x6AtZ"
      }
    },
    {
      "cell_type": "code",
      "source": [
        "class Shape:\n",
        "    def area(self):\n",
        "        pass\n",
        "\n",
        "class Square(Shape):\n",
        "    def area(self):\n",
        "        return \"Square area\"\n",
        "\n",
        "shape = Square()\n",
        "print(shape.area())  # Outputs: Square area\n"
      ],
      "metadata": {
        "colab": {
          "base_uri": "https://localhost:8080/"
        },
        "id": "2RPt-hYC4j7q",
        "outputId": "b247230d-f762-4631-e2ec-d205080cfa66"
      },
      "execution_count": null,
      "outputs": [
        {
          "output_type": "stream",
          "name": "stdout",
          "text": [
            "Square area\n"
          ]
        }
      ]
    },
    {
      "cell_type": "markdown",
      "source": [
        "####Q24. What is method chaining in Python OOP?\n",
        "- Method chaining allows multiple methods to be called sequentially on the same object, improving code readability.\n",
        "\n"
      ],
      "metadata": {
        "id": "aiQb3-XU6jYS"
      }
    },
    {
      "cell_type": "code",
      "source": [
        "class Calculator:\n",
        "    def __init__(self):\n",
        "        self.result = 0\n",
        "\n",
        "    def add(self, value):\n",
        "        self.result += value\n",
        "        return self\n",
        "\n",
        "    def multiply(self, value):\n",
        "        self.result *= value\n",
        "        return self\n",
        "\n",
        "calc = Calculator()\n",
        "print(calc.add(10).multiply(2).result)\n"
      ],
      "metadata": {
        "colab": {
          "base_uri": "https://localhost:8080/"
        },
        "id": "8yfODxEY6Q_i",
        "outputId": "3f8982ad-859b-4130-bd3a-42cf4c4168e9"
      },
      "execution_count": null,
      "outputs": [
        {
          "output_type": "stream",
          "name": "stdout",
          "text": [
            "20\n"
          ]
        }
      ]
    },
    {
      "cell_type": "markdown",
      "source": [
        "####Q25. What is the purpose of the __call__ method in Python?\n",
        "- The __call__ method allows an object to be used like a function.\n"
      ],
      "metadata": {
        "id": "65G1MDStfd-G"
      }
    },
    {
      "cell_type": "code",
      "source": [
        "class Greeter:\n",
        "    def __call__(self, name):\n",
        "        return f\"Hello, {name}!\"\n",
        "\n",
        "greet = Greeter()\n",
        "print(greet(\"Nitin\"))  # Outputs: Hello, Nitin!\n"
      ],
      "metadata": {
        "id": "bSzctDyq-HlA",
        "colab": {
          "base_uri": "https://localhost:8080/"
        },
        "outputId": "a2e01215-3f33-45c8-9416-36dc3e908d49"
      },
      "execution_count": null,
      "outputs": [
        {
          "output_type": "stream",
          "name": "stdout",
          "text": [
            "Hello, Nitin!\n"
          ]
        }
      ]
    },
    {
      "cell_type": "markdown",
      "source": [
        "#Practical Questions"
      ],
      "metadata": {
        "id": "5hAkQIVqjiEc"
      }
    },
    {
      "cell_type": "markdown",
      "source": [
        "####Q1. Create a parent class Animal with a method speak(). Create a child class Dog that overrides the speak() method."
      ],
      "metadata": {
        "id": "X06YKDVUjyGs"
      }
    },
    {
      "cell_type": "code",
      "source": [
        "class Animal:\n",
        "  def speak(self):\n",
        "    print(\"Animal Speak\")\n",
        "class Dog(Animal):\n",
        "  def speak(self):\n",
        "    print(\"Bark!\")\n",
        "\n",
        "dog = Dog()\n",
        "dog.speak()"
      ],
      "metadata": {
        "colab": {
          "base_uri": "https://localhost:8080/"
        },
        "id": "774C0_Ocft5f",
        "outputId": "0eb393d2-2f35-4ee1-9f89-dea84d8c69f3"
      },
      "execution_count": null,
      "outputs": [
        {
          "output_type": "stream",
          "name": "stdout",
          "text": [
            "Bark!\n"
          ]
        }
      ]
    },
    {
      "cell_type": "markdown",
      "source": [
        "####Q2. Write a program to create an abstract class Shape with a method area(). Derive classes Circle and Rectanglefrom it and implement the area() method in both.\n",
        "\n",
        "\n"
      ],
      "metadata": {
        "id": "2bc5Fo1N7Dcb"
      }
    },
    {
      "cell_type": "code",
      "source": [
        "from abc import ABC, abstractmethod\n",
        "class Shape(ABC):\n",
        "  @abstractmethod\n",
        "  def area(self):\n",
        "    pass\n",
        "class Circle(Shape):\n",
        "  def area(self, radius):\n",
        "    self.radius = radius\n",
        "    return 3.14*self.radius*self.radius\n",
        "    print(\"Area of Circle is: \", self.area())\n",
        "class Rectangle(Shape):\n",
        "  def area(self, length, breadth):\n",
        "    self.length = length\n",
        "    self.breadth = breadth\n",
        "    return self.length*self.breadth\n",
        "    print(\"Area of Rectangle\")\n",
        "\n",
        "circle = Circle()\n",
        "rectangle = Rectangle()\n",
        "print(circle.area(5))\n",
        "print(rectangle.area(5,10))"
      ],
      "metadata": {
        "colab": {
          "base_uri": "https://localhost:8080/"
        },
        "id": "TKcME7SdkRul",
        "outputId": "87ce126b-0c13-412e-eece-46a028e851a1"
      },
      "execution_count": null,
      "outputs": [
        {
          "output_type": "stream",
          "name": "stdout",
          "text": [
            "78.5\n",
            "50\n"
          ]
        }
      ]
    },
    {
      "cell_type": "markdown",
      "source": [
        "####Q3 & Q4. Implement a multi-level inheritance scenario where a class Vehicle has an attribute type. Derive a class Car and further derive a class ElectricCar that adds a battery attribute."
      ],
      "metadata": {
        "id": "1JmA3kXJ-kQC"
      }
    },
    {
      "cell_type": "code",
      "source": [
        "class Vehicle:\n",
        "    def __init__(self, type1):\n",
        "        self.type1 = type1\n",
        "\n",
        "class Car(Vehicle):\n",
        "    def __init__(self, type1, brand):\n",
        "      self.brand = brand\n",
        "\n",
        "class ElectricCar(Car):\n",
        "    def __init__(self, type1, brand, battery_capacity):\n",
        "      self.battery_capacity = battery_capacity\n",
        "\n",
        "e_car = ElectricCar(\"Electric\", \"Tesla\", \"100 kWh\")\n",
        "\n"
      ],
      "metadata": {
        "id": "gsgyFmoc8XyM"
      },
      "execution_count": 5,
      "outputs": []
    },
    {
      "cell_type": "markdown",
      "source": [
        "####Q5. Write a program to demonstrate encapsulation by creating a class BankAccount with private attributes balance and methods to deposit, withdraw, and check balance.\n"
      ],
      "metadata": {
        "id": "IY3tlarwF5qH"
      }
    },
    {
      "cell_type": "code",
      "source": [
        "class BankAccount:\n",
        "    def __init__(self, amount):\n",
        "        self.__amount = amount\n",
        "    def deposit(self, amount):\n",
        "        self.__amount += amount\n",
        "    def withdraw(self, amount):\n",
        "        if amount <= self.__amount:\n",
        "            self.__amount -= amount\n",
        "        else:\n",
        "            print(\"Insufficient balance\")\n",
        "    def balance(self):\n",
        "        print(self.__amount)\n",
        "\n",
        "nitin = BankAccount(1000)\n",
        "nitin.withdraw(500)\n",
        "nitin.balance()"
      ],
      "metadata": {
        "colab": {
          "base_uri": "https://localhost:8080/"
        },
        "id": "rb_a7wD6FmIQ",
        "outputId": "3201ebfe-91b4-4e91-aca6-6096e0c9d23f"
      },
      "execution_count": 17,
      "outputs": [
        {
          "output_type": "stream",
          "name": "stdout",
          "text": [
            "500\n"
          ]
        }
      ]
    },
    {
      "cell_type": "markdown",
      "source": [
        "####Q6. Demonstrate runtime polymorphism using a method play() in a base class Instrument. Derive classes Guitar and Piano that implement their own version of play()."
      ],
      "metadata": {
        "id": "-uGih8bEKZ8X"
      }
    },
    {
      "cell_type": "code",
      "source": [
        "class Instrument:\n",
        "    def play(self):\n",
        "        print(\"Instrument is playing\")\n",
        "\n",
        "class Guitar(Instrument):\n",
        "    def play(self):\n",
        "        print(\"Strumming the Guitar\")\n",
        "\n",
        "class Piano(Instrument):\n",
        "    def play(self):\n",
        "        print(\"Playing the Piano\")\n",
        "\n",
        "instruments = [Guitar(), Piano()]\n",
        "for instrument in instruments:\n",
        "    instrument.play()\n",
        "\n"
      ],
      "metadata": {
        "colab": {
          "base_uri": "https://localhost:8080/"
        },
        "id": "2YUTZJQbG_1I",
        "outputId": "a9258cc4-d23f-4ca4-b56d-e3a326b15cc4"
      },
      "execution_count": 18,
      "outputs": [
        {
          "output_type": "stream",
          "name": "stdout",
          "text": [
            "Strumming the Guitar\n",
            "Playing the Piano\n"
          ]
        }
      ]
    },
    {
      "cell_type": "markdown",
      "source": [
        "####Q7. Create a class MathOperations with a class method add_numbers() to add two numbers and a static method subtract_numbers() to subtract two numbers."
      ],
      "metadata": {
        "id": "2pWVOV9nK4RV"
      }
    },
    {
      "cell_type": "code",
      "source": [
        "class MathOperations:\n",
        "    @classmethod\n",
        "    def add_numbers(cls, a, b):\n",
        "        return a + b\n",
        "\n",
        "    @staticmethod\n",
        "    def subtract_numbers(a, b):\n",
        "        return a - b\n",
        "\n",
        "print(MathOperations.add_numbers(5,10))\n",
        "print(MathOperations.subtract_numbers(10,5))"
      ],
      "metadata": {
        "colab": {
          "base_uri": "https://localhost:8080/"
        },
        "id": "cjhCveRiKu6P",
        "outputId": "4443e6bc-0438-4192-d185-93222c9bb884"
      },
      "execution_count": 20,
      "outputs": [
        {
          "output_type": "stream",
          "name": "stdout",
          "text": [
            "15\n",
            "5\n"
          ]
        }
      ]
    },
    {
      "cell_type": "markdown",
      "source": [
        "####Q8. Implement a class Person with a class method to count the total number of persons created."
      ],
      "metadata": {
        "id": "mnA7yW8tLjC4"
      }
    },
    {
      "cell_type": "code",
      "source": [
        "class Person:\n",
        "    count = 0\n",
        "\n",
        "    def __init__(self):\n",
        "        Person.count += 1\n",
        "\n",
        "    @classmethod\n",
        "    def total_persons(cls):\n",
        "        return cls.count\n",
        "\n",
        "\n",
        "p1 = Person()\n",
        "p2 = Person()\n",
        "print(Person.total_persons())\n"
      ],
      "metadata": {
        "colab": {
          "base_uri": "https://localhost:8080/"
        },
        "id": "NNGoxa-TLTnW",
        "outputId": "dd540a58-e803-440e-daaa-1c59292c6a57"
      },
      "execution_count": 21,
      "outputs": [
        {
          "output_type": "stream",
          "name": "stdout",
          "text": [
            "2\n"
          ]
        }
      ]
    },
    {
      "cell_type": "markdown",
      "source": [
        "####Q9. Write a class Fraction with attributes numerator and denominator. Override the str method to display the fraction as \"numerator/denominator\"."
      ],
      "metadata": {
        "id": "IGeQGt41OGHU"
      }
    },
    {
      "cell_type": "code",
      "source": [
        "class Fraction:\n",
        "    def __init__(self, numerator, denominator):\n",
        "        self.numerator = numerator\n",
        "        self.denominator = denominator\n",
        "\n",
        "    def __str__(self):\n",
        "        return f\"{self.numerator}/{self.denominator}\"\n",
        "\n",
        "fraction = Fraction(3, 4)\n",
        "print(fraction)\n"
      ],
      "metadata": {
        "colab": {
          "base_uri": "https://localhost:8080/"
        },
        "id": "gl1r46l4Oas0",
        "outputId": "858bb7d1-0f02-4da0-dc38-6e8769a2721a"
      },
      "execution_count": 22,
      "outputs": [
        {
          "output_type": "stream",
          "name": "stdout",
          "text": [
            "3/4\n"
          ]
        }
      ]
    },
    {
      "cell_type": "markdown",
      "source": [
        "####Q10. Demonstrate operator overloading by creating a class Vector and overriding the add method to add two vectors."
      ],
      "metadata": {
        "id": "kTmPKWP9O8Xc"
      }
    },
    {
      "cell_type": "code",
      "source": [
        "class Vector:\n",
        "  def __init__(self,x,y):\n",
        "    self.x = x\n",
        "    self.y = y\n",
        "  def __add__(self, other):\n",
        "    return Vector(self.x + other.x, self.y + other.y)\n",
        "\n",
        "  def __str__(self):\n",
        "    return f\"({self.x}, {self.y})\"\n",
        "\n",
        "v1 = Vector(2,3)\n",
        "v2 = Vector(4,5)\n",
        "v3 = v1 + v2\n",
        "print(v3)"
      ],
      "metadata": {
        "colab": {
          "base_uri": "https://localhost:8080/"
        },
        "id": "hk5HMUD7OoEc",
        "outputId": "99df52a3-9446-42fa-ce27-c534388ed438"
      },
      "execution_count": 24,
      "outputs": [
        {
          "output_type": "stream",
          "name": "stdout",
          "text": [
            "(6, 8)\n"
          ]
        }
      ]
    },
    {
      "cell_type": "markdown",
      "source": [
        "####Q11. Create a class Person with attributes name and age. Add a method greet() that prints \"Hello, my name is {name} and I am {age} years old.\""
      ],
      "metadata": {
        "id": "VmGZq3naQqXt"
      }
    },
    {
      "cell_type": "code",
      "source": [
        "class Person:\n",
        "  def __init__(self, name, age):\n",
        "    self.name = name\n",
        "    self.age = age\n",
        "\n",
        "  def greet(self):\n",
        "    return f\"Hello, My name is {self.name} and I am {self.age} year old\"\n",
        "P1 = Person(\"Nitin\", 24)\n",
        "print(P1.greet())"
      ],
      "metadata": {
        "id": "oaNqyAWmUpcz"
      },
      "execution_count": null,
      "outputs": []
    },
    {
      "cell_type": "markdown",
      "source": [
        "####Q12. Implement a class Student with attributes name and grades. Create a method average_grade() to compute the average of the grades."
      ],
      "metadata": {
        "id": "tmEDeQ1qTLT7"
      }
    },
    {
      "cell_type": "code",
      "source": [
        "class Student:\n",
        "    def __init__(self, name, grades):\n",
        "        self.name = name\n",
        "        self.grades = grades\n",
        "\n",
        "    def average_grade(self):\n",
        "        return sum(self.grades) / len(self.grades)\n",
        "\n",
        "student = Student(\"Nitin\", [85, 90, 78, 92])\n",
        "print(f\"Average Grade for {student.name}: {student.average_grade()}\")\n"
      ],
      "metadata": {
        "colab": {
          "base_uri": "https://localhost:8080/"
        },
        "id": "CaqhubYxUs-S",
        "outputId": "baaaf441-66b6-41ea-9e59-9d7c3bd0d4e6"
      },
      "execution_count": 28,
      "outputs": [
        {
          "output_type": "stream",
          "name": "stdout",
          "text": [
            "Average Grade for Nitin: 86.25\n"
          ]
        }
      ]
    },
    {
      "cell_type": "markdown",
      "source": [
        "####Q13. Create a class Rectangle with methods set_dimensions() to set the dimensions and area() to calculate the area."
      ],
      "metadata": {
        "id": "enpsSJU7VKpi"
      }
    },
    {
      "cell_type": "code",
      "source": [
        "class Rectangle:\n",
        "    def __init__(self):\n",
        "        self.length = 0\n",
        "        self.breadth = 0\n",
        "\n",
        "    def set_dimensions(self, length, breadth):\n",
        "        self.length = length\n",
        "        self.breadth = breadth\n",
        "    def area(self):\n",
        "        return self.length*self.breadth\n",
        "\n",
        "rect = Rectangle()\n",
        "rect.set_dimensions(5,10)\n",
        "print(rect.area())"
      ],
      "metadata": {
        "colab": {
          "base_uri": "https://localhost:8080/"
        },
        "id": "WfgYMmu1VGIa",
        "outputId": "fbd516b2-fee8-4823-a4ea-8f65e0cf4592"
      },
      "execution_count": 29,
      "outputs": [
        {
          "output_type": "stream",
          "name": "stdout",
          "text": [
            "50\n"
          ]
        }
      ]
    },
    {
      "cell_type": "markdown",
      "source": [
        "####Q14. Create a class Employee with a method calculate_salary() that computes the salary based on hours worked and hourly rate. Create a derived class Manager that adds a bonus to the salary."
      ],
      "metadata": {
        "id": "RXbqdzh0Vox6"
      }
    },
    {
      "cell_type": "code",
      "source": [
        "class Employee:\n",
        "    def __init__(self, name, hourly_rate):\n",
        "        self.name = name\n",
        "        self.hourly_rate = hourly_rate\n",
        "\n",
        "    def calculate_salary(self, hours_worked):\n",
        "        return self.hourly_rate * hours_worked\n",
        "\n",
        "class Manager(Employee):\n",
        "    def __init__(self, name, hourly_rate, bonus):\n",
        "        super().__init__(name, hourly_rate)\n",
        "        self.bonus = bonus\n",
        "\n",
        "    def calculate_salary(self, hours_worked):\n",
        "        base_salary = super().calculate_salary(hours_worked)\n",
        "        return base_salary + self.bonus\n",
        "\n",
        "# Example\n",
        "emp = Employee(\"John\", 50)\n",
        "mgr = Manager(\"John\", 50, 500)\n",
        "\n",
        "print(f\"Employee Salary: {emp.calculate_salary(40)}\")  # Outputs: 2000\n",
        "print(f\"Manager Bonus: {mgr.calculate_salary(40)}\")   # Outputs: 3300\n"
      ],
      "metadata": {
        "colab": {
          "base_uri": "https://localhost:8080/"
        },
        "id": "ezu3Gv9UVjLS",
        "outputId": "39c14808-db95-49c3-e57d-6edd195b9bda"
      },
      "execution_count": 36,
      "outputs": [
        {
          "output_type": "stream",
          "name": "stdout",
          "text": [
            "Employee Salary: 2000\n",
            "Manager Bonus: 2500\n"
          ]
        }
      ]
    },
    {
      "cell_type": "markdown",
      "source": [
        "####Q15. Create a class Product with attributes name, price, and quantity. Implement a method total_price() that calculates the total price of the product."
      ],
      "metadata": {
        "id": "--OHZ8VscGYn"
      }
    },
    {
      "cell_type": "code",
      "source": [
        "class Product:\n",
        "  def __init__(self, name, price, quantity):\n",
        "    self.name = name\n",
        "    self.price = price\n",
        "    self.quantity = quantity\n",
        "  def total_price(self):\n",
        "    return self.price*self.quantity\n",
        "\n",
        "product = Product(\"Mobile\", 10000, 3)\n",
        "product.total_price()"
      ],
      "metadata": {
        "colab": {
          "base_uri": "https://localhost:8080/"
        },
        "id": "yJ10NN9YckFY",
        "outputId": "77d9ba1e-92c9-4d70-bf1d-7587c910b502"
      },
      "execution_count": 33,
      "outputs": [
        {
          "output_type": "execute_result",
          "data": {
            "text/plain": [
              "30000"
            ]
          },
          "metadata": {},
          "execution_count": 33
        }
      ]
    },
    {
      "cell_type": "markdown",
      "source": [
        "####Q16. Create a class Animal with an abstract method sound(). Create two derived classes Cow and Sheep that implement the sound() method."
      ],
      "metadata": {
        "id": "KwzDeMWAcwSX"
      }
    },
    {
      "cell_type": "code",
      "source": [
        "from abc import ABC, abstractmethod\n",
        "class Animal:\n",
        "  @abstractmethod\n",
        "  def sound(self):\n",
        "    pass\n",
        "class Cow(Animal):\n",
        "  def sound(self):\n",
        "    print(\"Moo!\")\n",
        "class Sheep(Animal):\n",
        "  def sound(self):\n",
        "    print(\"Baa!\")\n",
        "cow1 = Cow()\n",
        "sheep1 = Sheep()\n",
        "cow1.sound()\n",
        "sheep1.sound()"
      ],
      "metadata": {
        "colab": {
          "base_uri": "https://localhost:8080/"
        },
        "id": "hZe8o_UNcq4X",
        "outputId": "53a2879f-eca3-41b4-e18d-917cba5fc9b8"
      },
      "execution_count": 34,
      "outputs": [
        {
          "output_type": "stream",
          "name": "stdout",
          "text": [
            "Moo!\n",
            "Baa!\n"
          ]
        }
      ]
    },
    {
      "cell_type": "markdown",
      "source": [
        "####Q17. Create a class Book with attributes title, author, and year_published. Add a method get_book_info() that returns a formatted string with the book's details."
      ],
      "metadata": {
        "id": "Ue9WYsgRd-SX"
      }
    },
    {
      "cell_type": "code",
      "source": [
        "class Book:\n",
        "    def __init__(self, title, author, year_published):\n",
        "        self.title = title\n",
        "        self.author = author\n",
        "        self.year_published = year_published\n",
        "    def get_book_info(self):\n",
        "        return f\"Title: {self.title}\\nAuthor: {self.author}\\nYear Published: {self.year_published}\"\n",
        "\n",
        "book = Book(\"The Alchemist\", \"Paulo Coelho\", 1988)\n",
        "print(book.get_book_info())"
      ],
      "metadata": {
        "colab": {
          "base_uri": "https://localhost:8080/"
        },
        "id": "KL0wW0n1dRd_",
        "outputId": "4c4f1c63-c36c-4058-db4c-a830a48ec7b2"
      },
      "execution_count": 37,
      "outputs": [
        {
          "output_type": "stream",
          "name": "stdout",
          "text": [
            "Title: The Alchemist\n",
            "Author: Paulo Coelho\n",
            "Year Published: 1988\n"
          ]
        }
      ]
    },
    {
      "cell_type": "markdown",
      "source": [
        "####Q18. Create a class House with attributes address and price. Create a derived class Mansion that adds an attribute number_of_rooms."
      ],
      "metadata": {
        "id": "_FDX9LsHegU3"
      }
    },
    {
      "cell_type": "code",
      "source": [
        "class House:\n",
        "  def __init__(self, address, price):\n",
        "    self.address = address\n",
        "    self.price = price\n",
        "    pass\n",
        "class Mansion(House):\n",
        "  def __init__(self, address, price, number_of_rooms):\n",
        "    super().__init__(address, price)\n",
        "    self.number_of_rooms = number_of_rooms\n",
        "\n",
        "Grand = Mansion(\"bahadurgarh\", 1000000, 20)\n",
        "print(f\"Mansion address is {Grand.address}\")\n",
        "print(f\"Mansion price is {Grand.price}\")\n",
        "print(f\"Mansion number of rooms is {Grand.number_of_rooms}\")"
      ],
      "metadata": {
        "colab": {
          "base_uri": "https://localhost:8080/"
        },
        "id": "f2DZ_WD_eWsH",
        "outputId": "822bbc0e-364d-4511-acd4-217bc1725347"
      },
      "execution_count": 39,
      "outputs": [
        {
          "output_type": "stream",
          "name": "stdout",
          "text": [
            "Mansion address is bahadurgarh\n",
            "Mansion price is 1000000\n",
            "Mansion number of rooms is 20\n"
          ]
        }
      ]
    },
    {
      "cell_type": "code",
      "source": [],
      "metadata": {
        "id": "N1_kk1wJfyEO"
      },
      "execution_count": null,
      "outputs": []
    }
  ]
}